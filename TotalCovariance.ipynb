{
 "cells": [
  {
   "cell_type": "markdown",
   "metadata": {},
   "source": [
    "# Total Covariance "
   ]
  },
  {
   "cell_type": "markdown",
   "metadata": {},
   "source": [
    "This notebook demonstrates how to calculate the covariance of a dataset given covariances and means of two or more subsets of this dataset.  This technique can be used for parallelizing the computation or finding the covariance of a large dataset that cannot fit in memory.  "
   ]
  },
  {
   "cell_type": "markdown",
   "metadata": {},
   "source": [
    "## Overview\n",
    "Given two datasets X and Y of the same length N we can calculate their covariance using the following formula"
   ]
  },
  {
   "cell_type": "markdown",
   "metadata": {},
   "source": [
    "$$Cov(X, Y) = \\sum((X_i - \\overline{X}) (Y_i - \\overline{Y}) $$"
   ]
  },
  {
   "cell_type": "markdown",
   "metadata": {},
   "source": [
    "Given two data sub sets A and B with two variables (x) and (y), their means $\\mu_a$ and $\\mu_b$, and covariances between between (x) and (y) of each individual data set as $C_a$ and $C_b$ we can calculate the total covariance $C_t$ of the whole dataset using the following formula."
   ]
  },
  {
   "cell_type": "markdown",
   "metadata": {},
   "source": [
    "$$C_t = \\frac{(C_a (n_a-1)) + (C_b  (n_b-1)) + (\\mu_a^{(x)} - \\mu)  (\\mu_a^{(y)} - \\mu)  n_a  + (\\mu_b^{(x)} - \\mu) (\\mu_b^{(y)} - \\mu) n_b }{n-1}$$"
   ]
  },
  {
   "cell_type": "markdown",
   "metadata": {},
   "source": [
    "For this tutorial we are going to use the famous iris dataset, and in the first part we only use the first two features (columns)"
   ]
  },
  {
   "cell_type": "markdown",
   "metadata": {},
   "source": [
    "## Covariance between two variables"
   ]
  },
  {
   "cell_type": "code",
   "execution_count": 76,
   "metadata": {
    "collapsed": false
   },
   "outputs": [
    {
     "data": {
      "text/plain": [
       "(150, 2)"
      ]
     },
     "execution_count": 76,
     "metadata": {},
     "output_type": "execute_result"
    }
   ],
   "source": [
    "from sklearn import datasets\n",
    "import numpy as np\n",
    "iris = datasets.load_iris()\n",
    "X = iris.data[:, :2]  # we only take the first two features.\n",
    "X.shape"
   ]
  },
  {
   "cell_type": "markdown",
   "metadata": {},
   "source": [
    "First we compute the covariance of the two variables of the whole dataset."
   ]
  },
  {
   "cell_type": "code",
   "execution_count": 77,
   "metadata": {
    "collapsed": false
   },
   "outputs": [
    {
     "data": {
      "text/plain": [
       "array([[ 0.68569351, -0.03926846],\n",
       "       [-0.03926846,  0.18800403]])"
      ]
     },
     "execution_count": 77,
     "metadata": {},
     "output_type": "execute_result"
    }
   ],
   "source": [
    "np.cov(X, rowvar=False)"
   ]
  },
  {
   "cell_type": "markdown",
   "metadata": {},
   "source": [
    "The numpy produced a matrix of covariances in which the entries in the main diagonal are variances of variables, a thee covariance between two variables is in the positions (0,1) and (1,0)"
   ]
  },
  {
   "cell_type": "code",
   "execution_count": 78,
   "metadata": {
    "collapsed": false
   },
   "outputs": [
    {
     "data": {
      "text/plain": [
       "-0.039268456375838923"
      ]
     },
     "execution_count": 78,
     "metadata": {},
     "output_type": "execute_result"
    }
   ],
   "source": [
    "cov_X = np.cov(X, rowvar=False)[0][1]\n",
    "cov_X"
   ]
  },
  {
   "cell_type": "markdown",
   "metadata": {},
   "source": [
    "The covariance between two variables is -0.03926846. \n",
    "We divide the dataset X in two subsets of sizes 60 and 90. "
   ]
  },
  {
   "cell_type": "markdown",
   "metadata": {},
   "source": []
  },
  {
   "cell_type": "code",
   "execution_count": 79,
   "metadata": {
    "collapsed": false
   },
   "outputs": [],
   "source": [
    "n_a = 60\n",
    "n_b = 150 - n_a"
   ]
  },
  {
   "cell_type": "code",
   "execution_count": 80,
   "metadata": {
    "collapsed": true
   },
   "outputs": [],
   "source": [
    "X_A = X[0:n_a,:]\n",
    "X_B = X[n_a: ,:]"
   ]
  },
  {
   "cell_type": "markdown",
   "metadata": {},
   "source": [
    "We extract covariances $C_a$ and $C_b$ of both subsets X_A and X_B"
   ]
  },
  {
   "cell_type": "code",
   "execution_count": 81,
   "metadata": {
    "collapsed": false
   },
   "outputs": [
    {
     "data": {
      "text/plain": [
       "(0.028112994350282486, 0.11629213483146071)"
      ]
     },
     "execution_count": 81,
     "metadata": {},
     "output_type": "execute_result"
    }
   ],
   "source": [
    "cov_a = np.cov(X_A, rowvar=False)[0][1]\n",
    "cov_b = np.cov(X_B, rowvar=False)[0][1]\n",
    "cov_a, cov_b"
   ]
  },
  {
   "cell_type": "markdown",
   "metadata": {},
   "source": [
    "We also compute the means of $X_a$ and $X_b$ along columns"
   ]
  },
  {
   "cell_type": "code",
   "execution_count": 82,
   "metadata": {
    "collapsed": false
   },
   "outputs": [],
   "source": [
    "mean_a = X_A.mean(axis=0)\n",
    "mean_b = X_B.mean(axis=0)"
   ]
  },
  {
   "cell_type": "markdown",
   "metadata": {},
   "source": [
    "We recover the grand mean using the following formula\n",
    "$$\\mu_g = \\frac{\\mu_a * n_a + \\mu_b * n_b}{n_a + n_b}$$"
   ]
  },
  {
   "cell_type": "code",
   "execution_count": 83,
   "metadata": {
    "collapsed": false
   },
   "outputs": [],
   "source": [
    "grand_mean = (mean_a * n_a + mean_b * n_b) / (n_a + n_b)"
   ]
  },
  {
   "cell_type": "markdown",
   "metadata": {},
   "source": [
    "Finally we calculate the covariance of the whole dataset from covariances of individual groups using the formula given at the beginning of this tutorial"
   ]
  },
  {
   "cell_type": "code",
   "execution_count": 84,
   "metadata": {
    "collapsed": false
   },
   "outputs": [
    {
     "data": {
      "text/plain": [
       "-0.039268456375838957"
      ]
     },
     "execution_count": 84,
     "metadata": {},
     "output_type": "execute_result"
    }
   ],
   "source": [
    "grand_cov = ((cov_a * (n_a - 1)) + (cov_b * (n_b-1)) + \\\n",
    "    ((mean_a[0] - grand_mean[0]) * (mean_a[1] - grand_mean[1]) * n_a) + \\\n",
    "    ((mean_b[0] - grand_mean[0]) * (mean_b[1] - grand_mean[1]) * n_b)) / (n_a + n_b - 1) \n",
    "grand_cov"
   ]
  },
  {
   "cell_type": "code",
   "execution_count": 85,
   "metadata": {
    "collapsed": false
   },
   "outputs": [
    {
     "data": {
      "text/plain": [
       "3.4694469519536142e-17"
      ]
     },
     "execution_count": 85,
     "metadata": {},
     "output_type": "execute_result"
    }
   ],
   "source": [
    "cov_X - grand_cov"
   ]
  },
  {
   "cell_type": "code",
   "execution_count": null,
   "metadata": {
    "collapsed": true
   },
   "outputs": [],
   "source": []
  },
  {
   "cell_type": "markdown",
   "metadata": {},
   "source": [
    "The difference is very small, so we conclude we computed the covariance correctly."
   ]
  },
  {
   "cell_type": "markdown",
   "metadata": {},
   "source": [
    "We can also vectorize the computation and compute the covariance of all four variables available in the iris dataset. "
   ]
  },
  {
   "cell_type": "code",
   "execution_count": 86,
   "metadata": {
    "collapsed": true
   },
   "outputs": [],
   "source": [
    "X = iris.data \n",
    "X_A = X[0:n_a,   :]\n",
    "X_B = X[n_a:, :]\n",
    "cov_a = np.cov(X_A, rowvar=False)\n",
    "cov_b = np.cov(X_B, rowvar=False)\n",
    "mean_a = X_A.mean(axis=0)\n",
    "mean_b = X_B.mean(axis=0)\n",
    "mean_x = (mean_a * n_a + mean_b * n_b) / (n_a + n_b)\n",
    "grand_cov = (cov_a * (n_a - 1) + cov_b * (n_b-1) +\\\n",
    "             (np.outer((mean_a - mean_x), (mean_a - mean_x)) * n_a) +\n",
    "             (np.outer((mean_b - mean_x), (mean_b - mean_x) * n_b))) / (n_a + n_b - 1)"
   ]
  },
  {
   "cell_type": "code",
   "execution_count": 87,
   "metadata": {
    "collapsed": false
   },
   "outputs": [
    {
     "data": {
      "text/plain": [
       "array([[ 0.68569351, -0.03926846,  1.27368233,  0.5169038 ],\n",
       "       [-0.03926846,  0.18800403, -0.32171275, -0.11798121],\n",
       "       [ 1.27368233, -0.32171275,  3.11317942,  1.29638747],\n",
       "       [ 0.5169038 , -0.11798121,  1.29638747,  0.58241432]])"
      ]
     },
     "execution_count": 87,
     "metadata": {},
     "output_type": "execute_result"
    }
   ],
   "source": [
    "grand_cov"
   ]
  },
  {
   "cell_type": "markdown",
   "metadata": {},
   "source": [
    "We can also generalize the computation of the total covariance matrix from covariances and means of individual groups. Concretely, given $m$ sets of two variables (x) and (y) of size $n_i$, the means $\\mu_i$ and the covariances $Cov_i(x,y)$ we calculate the total covariance"
   ]
  },
  {
   "cell_type": "markdown",
   "metadata": {},
   "source": [
    "$$Cov_t(x,y) = \\frac{\\sum_{i=1}^{m} {(Cov_i(x,y) * (n_i-1)} + \\sum_{i=1}^{m} {n_i(\\mu_i^{(x)} - \\mu^{(x)})  (\\mu_i^{(y)} - \\mu^{(y)}) }}{{N-1}}$$"
   ]
  },
  {
   "cell_type": "code",
   "execution_count": 88,
   "metadata": {
    "collapsed": false
   },
   "outputs": [],
   "source": [
    "def total_covariance(covs, means, N):\n",
    "    c_shape = covs.shape\n",
    "    grand_mean = np.dot(means.T, N) / (np.sum(N))\n",
    "    ess = np.sum((covs.reshape((covs.shape[0], -1)) * (N - 1).reshape(N.shape[0], 1)).reshape(c_shape), axis=0)\n",
    "    tgss = np.sum([ np.outer(x, x) * n for x, n  in zip(means - grand_mean, N)], axis=0) \n",
    "    return (ess + tgss) / (np.sum(N) - 1)"
   ]
  },
  {
   "cell_type": "markdown",
   "metadata": {},
   "source": [
    "Let's split the iris data set in three subsets of unequal sizes and calculate the covariance matrix using the function we defined."
   ]
  },
  {
   "cell_type": "code",
   "execution_count": 89,
   "metadata": {
    "collapsed": false
   },
   "outputs": [
    {
     "data": {
      "text/plain": [
       "array([[ 0.68569351, -0.03926846,  1.27368233,  0.5169038 ],\n",
       "       [-0.03926846,  0.18800403, -0.32171275, -0.11798121],\n",
       "       [ 1.27368233, -0.32171275,  3.11317942,  1.29638747],\n",
       "       [ 0.5169038 , -0.11798121,  1.29638747,  0.58241432]])"
      ]
     },
     "execution_count": 89,
     "metadata": {},
     "output_type": "execute_result"
    }
   ],
   "source": [
    "N1 = np.array([20, 70, 60])\n",
    "groups = [ X[0:N1[0],:], X[N1[0]:N1[0] + N1[1],:], X[N1[0]+N1[1]:,:]]\n",
    "covs = np.array([np.cov(g, rowvar=False) for g in groups])\n",
    "means = np.array([g.mean(axis=0) for g in groups])\n",
    "total_covariance(covs, means, N1)"
   ]
  },
  {
   "cell_type": "markdown",
   "metadata": {},
   "source": [
    "We can verify the calculation by calculating covariance of the whole dataset"
   ]
  },
  {
   "cell_type": "code",
   "execution_count": 90,
   "metadata": {
    "collapsed": false
   },
   "outputs": [
    {
     "data": {
      "text/plain": [
       "array([[ 0.68569351, -0.03926846,  1.27368233,  0.5169038 ],\n",
       "       [-0.03926846,  0.18800403, -0.32171275, -0.11798121],\n",
       "       [ 1.27368233, -0.32171275,  3.11317942,  1.29638747],\n",
       "       [ 0.5169038 , -0.11798121,  1.29638747,  0.58241432]])"
      ]
     },
     "execution_count": 90,
     "metadata": {},
     "output_type": "execute_result"
    }
   ],
   "source": [
    "np.cov(X, rowvar=False) "
   ]
  },
  {
   "cell_type": "code",
   "execution_count": 91,
   "metadata": {
    "collapsed": false
   },
   "outputs": [
    {
     "data": {
      "text/plain": [
       "array([[ -1.22124533e-15,  -1.04083409e-16,  -2.22044605e-15,\n",
       "         -1.22124533e-15],\n",
       "       [ -1.04083409e-16,   5.55111512e-17,  -3.88578059e-16,\n",
       "         -1.94289029e-16],\n",
       "       [ -2.22044605e-15,  -3.88578059e-16,   2.22044605e-15,\n",
       "         -8.88178420e-16],\n",
       "       [ -1.22124533e-15,  -1.94289029e-16,  -8.88178420e-16,\n",
       "         -3.33066907e-16]])"
      ]
     },
     "execution_count": 91,
     "metadata": {},
     "output_type": "execute_result"
    }
   ],
   "source": [
    "grand_covariance(covs, means, N1) - np.cov(X, rowvar=False) "
   ]
  },
  {
   "cell_type": "code",
   "execution_count": null,
   "metadata": {
    "collapsed": false
   },
   "outputs": [],
   "source": []
  }
 ],
 "metadata": {
  "anaconda-cloud": {},
  "kernelspec": {
   "display_name": "Python [conda root]",
   "language": "python",
   "name": "conda-root-py"
  },
  "language_info": {
   "codemirror_mode": {
    "name": "ipython",
    "version": 3
   },
   "file_extension": ".py",
   "mimetype": "text/x-python",
   "name": "python",
   "nbconvert_exporter": "python",
   "pygments_lexer": "ipython3",
   "version": "3.5.2"
  }
 },
 "nbformat": 4,
 "nbformat_minor": 0
}
